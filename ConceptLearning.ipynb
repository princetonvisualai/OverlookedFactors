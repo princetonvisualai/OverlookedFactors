{
 "cells": [
  {
   "cell_type": "markdown",
   "id": "638a4d6f",
   "metadata": {},
   "source": [
    "# Computing Concept Learnability"
   ]
  },
  {
   "cell_type": "code",
   "execution_count": 1,
   "id": "827802e9",
   "metadata": {},
   "outputs": [],
   "source": [
    "import numpy as np\n",
    "from sklearn.linear_model import LogisticRegression\n",
    "import pickle\n",
    "import pandas as pd\n",
    "import matplotlib.pyplot as plt"
   ]
  },
  {
   "cell_type": "code",
   "execution_count": 36,
   "id": "b6f5901d",
   "metadata": {},
   "outputs": [],
   "source": [
    "from sklearn.model_selection import train_test_split\n",
    "\n",
    "def get_cub_features():\n",
    "    test_images = pickle.load(open('CUB_resnet_baseline//test.pkl', 'rb'))\n",
    "    test_img_names = []\n",
    "    test_attr = []\n",
    "    test_pred = pickle.load(open('CUB_resnet_baseline/test_predictions.pkl', 'rb'))\n",
    "    test_features = pickle.load(open('CUB_resnet_baseline/imagenet_features.pkl', 'rb'))\n",
    "    test_logits = pickle.load(open('CUB_resnet_baseline/best_test_scores.pkl', 'rb'))['scores']\n",
    "    test_feat_array = []\n",
    "    targets = []\n",
    "    for i in range(len(test_images)):\n",
    "        test_img_names.append(test_images[i]['img_path'])\n",
    "        targets.append(test_images[i]['class_label'])\n",
    "        #print(test_images[i]['img_path'])\n",
    "        test_attr.append(test_images[i]['attribute_label'])\n",
    "        test_feat_array.append(test_features[test_images[i]['img_path']].squeeze())\n",
    "    test_attr = np.stack(test_attr)\n",
    "    test_features = np.stack(test_feat_array)\n",
    "    train_features, valtest_features, train_attr, valtest_attr, train_pred, valtest_pred, train_logits, valtest_logits, train_targets, valtest_targets = train_test_split(test_features, test_attr, test_pred, test_logits, targets, test_size=0.4, random_state = 42)\n",
    "    val_features, test_features, val_attr, test_attr, val_pred, test_pred, val_logits, test_logits, val_targets, test_targets = train_test_split(valtest_features, valtest_attr, valtest_pred, valtest_logits, valtest_targets, test_size=0.5, random_state = 42)\n",
    "\n",
    "    features = {'train': train_features, 'val': val_features, 'test': test_features}\n",
    "    attr = {'train': train_attr, 'val': val_attr, 'test': test_attr}\n",
    "    predictions = {'train': train_pred, 'val': val_pred, 'test': test_pred}\n",
    "    logits = {'train': train_logits, 'val': val_logits, 'test': test_logits}\n",
    "    targets = {'train': train_targets, 'val': val_targets, 'test': test_targets}\n",
    "\n",
    "    return features, attr, predictions, logits, targets\n",
    "\n",
    "def get_ade20k_features():\n",
    "    \n",
    "    features = {'train':[], 'val':[], 'test':[]}\n",
    "    attr = {'train':[], 'val':[], 'test':[]}\n",
    "    predictions = {'train':[], 'val':[], 'test':[]}\n",
    "    names = {'train':[], 'val':[], 'test':[]}\n",
    "\n",
    "    A = pickle.load(open('../ADE20k/ade20k_imagelabels_with_texture.pkl', 'rb'))\n",
    "\n",
    "\n",
    "    for split in ['train', 'val', 'test']:\n",
    "        img_names = A[split]\n",
    "        feat_split = pickle.load(open('../ADE20k/{}_imagenet.pkl'.format(split), 'rb'))\n",
    "        pred_split = pickle.load(open('../ADE20k/{}_scene.pkl'.format(split), 'rb'))\n",
    "        #logit_split = pickle.load(open('../ADE20k/tra'))\n",
    "        for img in img_names:\n",
    "            features[split].append(feat_split[img].squeeze())\n",
    "            predictions[split].append(pred_split[img])\n",
    "            temp = np.zeros(1200)\n",
    "            temp[A['labels'][img]] = 1 \n",
    "            attr[split].append(temp)\n",
    "\n",
    "        features[split] = np.stack(features[split])\n",
    "        predictions[split] = np.array(predictions[split])\n",
    "        attr[split] = np.stack(attr[split])\n",
    "        names[split] = img_names\n",
    "    \n",
    "    return features, attr, predictions, names"
   ]
  },
  {
   "cell_type": "code",
   "execution_count": 37,
   "id": "9dbcaba4",
   "metadata": {},
   "outputs": [],
   "source": [
    "cub_features, cub_attr, cub_predictions, cub_logits, cub_targets = get_cub_features()\n",
    "ade_features, ade_attr, ade_predictions, ade_names = get_ade20k_features()"
   ]
  },
  {
   "cell_type": "markdown",
   "id": "0e12e78b",
   "metadata": {},
   "source": [
    "## Scene NAPs vs. Broden concepts"
   ]
  },
  {
   "cell_type": "code",
   "execution_count": 4,
   "id": "06377d90",
   "metadata": {},
   "outputs": [],
   "source": [
    "ibd_coefs = pickle.load(open('ibd_attr_importances.pkl', 'rb'))"
   ]
  },
  {
   "cell_type": "code",
   "execution_count": 7,
   "id": "6c8c55c5",
   "metadata": {},
   "outputs": [],
   "source": [
    "labels = pd.read_csv('../../dataset/broden1_224/label.csv', index_col=0)['name'].to_dict()\n",
    "label_to_num = {v:k for (k, v) in labels.items()}"
   ]
  },
  {
   "cell_type": "code",
   "execution_count": 8,
   "id": "788f3664",
   "metadata": {},
   "outputs": [],
   "source": [
    "attr_needed = []\n",
    "for sc in range(365):\n",
    "    for t in ibd_coefs[sc]['attr_coefs']:\n",
    "        if label_to_num[t]not in attr_needed:\n",
    "            attr_needed.append(label_to_num[t])"
   ]
  },
  {
   "cell_type": "code",
   "execution_count": 10,
   "id": "e6c3e050",
   "metadata": {},
   "outputs": [],
   "source": [
    "from sklearn.metrics import roc_auc_score\n",
    "\n",
    "def hyperparam_search_l2(train_features, train_labels, val_features, val_labels, \n",
    "                      Cs = [0.001, 0.005, 0.01, 0.05, 0.1, 0.5, 1, 5]):\n",
    "    best_clf = None\n",
    "    best_auc = 0\n",
    "    \n",
    "    for c in Cs:\n",
    "        clf = LogisticRegression(solver='liblinear', C=c, penalty='l2')\n",
    "        clf.fit(train_features, train_labels)\n",
    "        score = roc_auc_score(val_labels, clf.predict_proba(val_features)[:, 1])\n",
    "        if score>best_auc:\n",
    "            best_auc = score\n",
    "            best_clf = clf\n",
    "    \n",
    "    return best_clf\n",
    "        "
   ]
  },
  {
   "cell_type": "code",
   "execution_count": null,
   "id": "dfac8cd8",
   "metadata": {},
   "outputs": [],
   "source": [
    "attr_clfs = {}\n",
    "\n",
    "for at in attr_needed:\n",
    "    \n",
    "    if train_attr[:, at].mean()==0 or train_attr[:, at].mean()==1:\n",
    "        print(at)\n",
    "        continue\n",
    "    clf = hyperparam_search_l2(ade_features['train'], ade_attr['train'][:, at], \n",
    "                              ade_features['val'], ade_attr['val'][:, at])\n",
    "    attr_clfs[at] = clf"
   ]
  },
  {
   "cell_type": "code",
   "execution_count": 11,
   "id": "9daada90",
   "metadata": {},
   "outputs": [],
   "source": [
    "def normalized_ap(targets, scores, N):\n",
    "    \n",
    "    sorted_score_idxs = np.argsort(scores).squeeze()\n",
    "    sorted_scores = scores[sorted_score_idxs]\n",
    "    sorted_targets = targets[sorted_score_idxs]\n",
    "    actual_N = targets.sum()\n",
    "    \n",
    "    all_recalls = [0]\n",
    "    all_precisions = []\n",
    "    \n",
    "    correct_pos = 0\n",
    "    wrong_pos = 0\n",
    "    #print(sorted_scores.shape, sorted_targets.shape, actual_N)\n",
    "    for i in range(len(sorted_scores)-1,-1, -1):\n",
    "        if sorted_targets[i]==1:\n",
    "            correct_pos+=1\n",
    "        else:\n",
    "            wrong_pos+=1\n",
    "        #print((correct_pos/actual_N)*N, wrong_pos)\n",
    "        all_precisions.append(((correct_pos/actual_N)*N)/((correct_pos/actual_N)*N+wrong_pos))\n",
    "        all_recalls.append(correct_pos/actual_N)\n",
    "    \n",
    "    recall_diffs = np.array(all_recalls[1:]) - np.array(all_recalls[:-1])\n",
    "    all_precisions = np.array(all_precisions)\n",
    "    #print(all_precisions, recall_diffs)\n",
    "    return (recall_diffs*all_precisions).sum()"
   ]
  },
  {
   "cell_type": "code",
   "execution_count": null,
   "id": "2d50e01d",
   "metadata": {},
   "outputs": [],
   "source": [
    "NAPs = {}\n",
    "\n",
    "N = (1/365)*ade_features['test'].shape[0]\n",
    "\n",
    "for at in attr_clfs:\n",
    "    if ade_attr['test'][:, at].mean()==0:\n",
    "        continue\n",
    "    sc = attr_clfs[at].predict_proba(ade_features['test'])[:, 1]\n",
    "    NAPs[at] = normalized_ap(ade_attr['test'][:,at], sc, N)"
   ]
  },
  {
   "cell_type": "code",
   "execution_count": 12,
   "id": "e7741e22",
   "metadata": {
    "collapsed": true
   },
   "outputs": [
    {
     "ename": "FileNotFoundError",
     "evalue": "[Errno 2] No such file or directory: 'record/Places365/val_logits.pkl'",
     "output_type": "error",
     "traceback": [
      "\u001b[0;31m---------------------------------------------------------------------------\u001b[0m",
      "\u001b[0;31mFileNotFoundError\u001b[0m                         Traceback (most recent call last)",
      "\u001b[0;32m<ipython-input-12-3efa579f4740>\u001b[0m in \u001b[0;36m<module>\u001b[0;34m\u001b[0m\n\u001b[0;32m----> 1\u001b[0;31m \u001b[0mplaces_logits\u001b[0m \u001b[0;34m=\u001b[0m \u001b[0mpickle\u001b[0m\u001b[0;34m.\u001b[0m\u001b[0mload\u001b[0m\u001b[0;34m(\u001b[0m\u001b[0mopen\u001b[0m\u001b[0;34m(\u001b[0m\u001b[0;34m'record/Places365/val_logits.pkl'\u001b[0m\u001b[0;34m,\u001b[0m \u001b[0;34m'rb'\u001b[0m\u001b[0;34m)\u001b[0m\u001b[0;34m)\u001b[0m\u001b[0;34m\u001b[0m\u001b[0;34m\u001b[0m\u001b[0m\n\u001b[0m\u001b[1;32m      2\u001b[0m \u001b[0mplaces_scores_array\u001b[0m \u001b[0;34m=\u001b[0m \u001b[0;34m[\u001b[0m\u001b[0;34m]\u001b[0m\u001b[0;34m\u001b[0m\u001b[0;34m\u001b[0m\u001b[0m\n\u001b[1;32m      3\u001b[0m \u001b[0mplaces_targets\u001b[0m \u001b[0;34m=\u001b[0m \u001b[0;34m[\u001b[0m\u001b[0;34m]\u001b[0m\u001b[0;34m\u001b[0m\u001b[0;34m\u001b[0m\u001b[0m\n\u001b[1;32m      4\u001b[0m \u001b[0;32mwith\u001b[0m \u001b[0mopen\u001b[0m\u001b[0;34m(\u001b[0m\u001b[0;34m'record/Places365/places365_val.txt'\u001b[0m\u001b[0;34m,\u001b[0m \u001b[0;34m'r'\u001b[0m\u001b[0;34m)\u001b[0m \u001b[0;32mas\u001b[0m \u001b[0mhandle\u001b[0m\u001b[0;34m:\u001b[0m\u001b[0;34m\u001b[0m\u001b[0;34m\u001b[0m\u001b[0m\n\u001b[1;32m      5\u001b[0m     \u001b[0mlines\u001b[0m \u001b[0;34m=\u001b[0m \u001b[0mhandle\u001b[0m\u001b[0;34m.\u001b[0m\u001b[0mreadlines\u001b[0m\u001b[0;34m(\u001b[0m\u001b[0;34m)\u001b[0m\u001b[0;34m\u001b[0m\u001b[0;34m\u001b[0m\u001b[0m\n",
      "\u001b[0;31mFileNotFoundError\u001b[0m: [Errno 2] No such file or directory: 'record/Places365/val_logits.pkl'"
     ]
    }
   ],
   "source": [
    "places_logits = pickle.load(open('record/Places365/val_logits.pkl', 'rb'))\n",
    "places_scores_array = []\n",
    "places_targets = []\n",
    "with open('record/Places365/places365_val.txt', 'r') as handle:\n",
    "    lines = handle.readlines()\n",
    "    for line in lines:\n",
    "        t = line.strip().split()\n",
    "        places_targets.append(int(t[1]))\n",
    "        places_scores_array.append(places_logits['/n/fs/visualai-scr/Data/Places365/val_256/{}'.format(t[0])])"
   ]
  },
  {
   "cell_type": "code",
   "execution_count": null,
   "id": "576191e2",
   "metadata": {},
   "outputs": [],
   "source": [
    "places_scores_array = np.concatenate(places_scores_array)\n",
    "places_targets = np.array(places_targets)"
   ]
  },
  {
   "cell_type": "code",
   "execution_count": null,
   "id": "794e18f9",
   "metadata": {},
   "outputs": [],
   "source": [
    "scene_naps = []\n",
    "for sc in range(365):\n",
    "    scene_naps.append(normalized_ap(np.where(places_targets==sc, 1, 0), places_scores_array[:, sc], 100))plt.hist(np.array(cub_NAPs_array)*100, bins=np.arange(21)*5)\n"
   ]
  },
  {
   "cell_type": "code",
   "execution_count": 46,
   "id": "e789420a",
   "metadata": {},
   "outputs": [
    {
     "data": {
      "image/png": "[encoded data removed]",
      "text/plain": [
       "<Figure size 432x288 with 1 Axes>"
      ]
     },
     "metadata": {
      "needs_background": "light"
     },
     "output_type": "display_data"
    }
   ],
   "source": [
    "plt.hist(np.array(list(NAPs.values()))*100, bins=np.arange(21)*5)\n",
    "plt.xlabel('Normalized AP', size=14)\n",
    "plt.xlim([-1, 100])\n",
    "plt.ylabel('Number of concepts', size=14)\n",
    "plt.savefig('ade_attr_aps.eps')\n"
   ]
  },
  {
   "cell_type": "code",
   "execution_count": 47,
   "id": "3dc97879",
   "metadata": {},
   "outputs": [
    {
     "data": {
      "image/png": "[encoded data removed]",
      "text/plain": [
       "<Figure size 432x288 with 1 Axes>"
      ]
     },
     "metadata": {
      "needs_background": "light"
     },
     "output_type": "display_data"
    }
   ],
   "source": [
    "plt.hist(np.array(scene_aps)*100, bins=np.arange(21)*5)\n",
    "plt.xlabel('Normalized AP', size=14)\n",
    "plt.xlim([-1, 100])\n",
    "plt.ylabel('Number of bird classes', size=14)\n",
    "plt.savefig('scene_aps.eps')"
   ]
  },
  {
   "cell_type": "markdown",
   "id": "fd38a5d9",
   "metadata": {},
   "source": [
    "## CUB NAPs vs. CUB concepts"
   ]
  },
  {
   "cell_type": "code",
   "execution_count": 13,
   "id": "73f65e1f",
   "metadata": {},
   "outputs": [],
   "source": [
    "def cub_attributes():\n",
    "    return [1, 4, 6, 7, 10, 14, 15, 20, 21, 23, 25, 29, 30, 35, 36, 38, 40, 44, 45, 50, 51, 53, 54, 56, 57, 59,\n",
    "            63, 64, 69, 70, 72, 75, 80, 84, 90, 91, 93, 99, 101, 106, 110, 111, 116, 117, 119, 125, 126, 131,\n",
    "            132, 134, 145, 149, 151, 152, 153, 157, 158, 163, 164, 168, 172, 178, 179, 181, 183, 187, 188, 193,\n",
    "            194, 196, 198, 202, 203, 208, 209, 211, 212, 213, 218, 220, 221, 225, 235, 236, 238, 239, 240, 242,\n",
    "            243, 244, 249, 253, 254, 259, 260, 262, 268, 274, 277, 283, 289, 292, 293, 294, 298, 299, 304, 305,\n",
    "            308, 309, 310, 311]\n",
    "\n",
    "imp_attr = cub_attributes()"
   ]
  },
  {
   "cell_type": "code",
   "execution_count": 28,
   "id": "48d71072",
   "metadata": {},
   "outputs": [
    {
     "name": "stdout",
     "output_type": "stream",
     "text": [
      "0.7580194132989164 0.001\n",
      "0.7677260627571186 0.005\n",
      "0.9185371006073408 0.001\n",
      "0.9185491033919869 0.005\n",
      "0.7383581642584413 0.001\n",
      "0.7395217239400065 0.005\n",
      "0.7956205479968341 0.001\n",
      "0.8024723928692572 0.005\n",
      "0.8116248693834901 0.001\n",
      "0.7128362566971926 0.001\n",
      "0.7144778110745544 0.005\n",
      "0.8913771806629553 0.001\n",
      "0.8959965481649436 0.005\n",
      "0.7416675278255637 0.001\n",
      "0.7443122048604446 0.001\n",
      "0.7479364226206473 0.005\n",
      "0.8111571304392289 0.001\n",
      "0.8373232569478304 0.001\n",
      "0.730121210355327 0.001\n",
      "0.8833552467929356 0.001\n",
      "0.8861891901496037 0.005\n",
      "0.7452123564014906 0.001\n",
      "0.7604339866646513 0.001\n",
      "0.7631422045313313 0.005\n",
      "0.8172645002958127 0.001\n",
      "0.8225124350855666 0.005\n",
      "0.7750591052376332 0.001\n",
      "0.7873651188166829 0.005\n",
      "0.7284243200630667 0.001\n",
      "0.7375197083169096 0.005\n",
      "0.7381109578242018 0.01\n",
      "0.9596321070234114 0.001\n",
      "0.9629821627647716 0.005\n",
      "0.8353503123682494 0.001\n",
      "0.8465658656241615 0.005\n",
      "0.8050767953244546 0.001\n",
      "0.8107120444734623 0.005\n",
      "0.8376877237186793 0.001\n",
      "0.8421071050052992 0.005\n",
      "0.7238023682154235 0.001\n",
      "0.7263569153092504 0.005\n",
      "0.7567264401727132 0.001\n",
      "0.77212311191014 0.005\n",
      "0.7739823906329231 0.01\n",
      "0.6471474703982777 0.001\n",
      "0.657153554546731 0.005\n",
      "0.8343886145803079 0.001\n",
      "0.834620970084229 0.005\n",
      "0.7262366054343666 0.001\n",
      "0.7288278160479653 0.005\n",
      "0.8794912952216324 0.001\n",
      "0.8806848582129481 0.005\n",
      "0.7833606007971229 0.001\n",
      "0.7932093204275347 0.005\n",
      "0.7650834184542051 0.001\n",
      "0.7800703665872205 0.005\n",
      "0.8034307572769113 0.001\n",
      "0.6418634980437617 0.001\n",
      "0.780733998482992 0.001\n",
      "0.7809965575587842 0.005\n",
      "0.6808316331487418 0.001\n",
      "0.6919411250364327 0.005\n",
      "0.7219417475728156 0.001\n",
      "0.7255168475157053 0.005\n",
      "0.7215189873417722 0.001\n",
      "0.7404494239937277 0.005\n",
      "0.7441482568064847 0.01\n",
      "0.802203524316461 0.001\n",
      "0.8044186200284326 0.005\n",
      "0.7578396013435383 0.001\n",
      "0.7572049162958254 0.001\n",
      "0.7664043148807691 0.001\n",
      "0.7785692300927758 0.005\n",
      "0.7426986317120847 0.001\n",
      "0.7458893871449925 0.005\n",
      "0.9508727720436788 0.001\n",
      "0.9565742690462219 0.005\n",
      "0.958490110117712 0.01\n",
      "0.9596407654159045 0.05\n",
      "0.8067414109179794 0.001\n",
      "0.8187678231939163 0.005\n",
      "0.8085503303536727 0.001\n",
      "0.8172755538282162 0.005\n",
      "0.8179686487887032 0.01\n",
      "0.8348867524849275 0.001\n",
      "0.8362446363586985 0.005\n",
      "0.7290958909649762 0.001\n",
      "0.9611804289920091 0.001\n",
      "0.9646572269732231 0.005\n",
      "0.9650147203140333 0.01\n",
      "0.8141992551210431 0.001\n",
      "0.8269426104621637 0.005\n",
      "0.8272769595395293 0.01\n",
      "0.8153688238694119 0.001\n",
      "0.8267859871511237 0.005\n",
      "0.827629734452129 0.01\n",
      "0.8276506875722915 0.001\n",
      "0.830780105384912 0.005\n",
      "0.6672804301776112 0.001\n",
      "0.6751887458584541 0.005\n",
      "0.7677201494983936 0.001\n",
      "0.7714608878106354 0.005\n",
      "0.8020209945020194 0.001\n",
      "0.8038455456624335 0.005\n",
      "0.9123993861379937 0.001\n",
      "0.91755144226252 0.005\n",
      "0.8317035615013898 0.001\n",
      "0.7332732732732733 0.001\n",
      "0.912871687136393 0.001\n",
      "0.9243051066580479 0.005\n",
      "0.9259615384615385 0.01\n",
      "0.7806739426457736 0.001\n",
      "0.7883089784498236 0.005\n",
      "0.8263388388388389 0.001\n",
      "0.842774024024024 0.005\n",
      "0.8443380880880882 0.01\n",
      "0.7535814424730802 0.001\n",
      "0.6846290791219496 0.001\n",
      "0.7344909127761637 0.001\n",
      "0.7374670630362814 0.005\n",
      "0.7422317392338806 0.001\n",
      "0.754503925767309 0.005\n",
      "0.7806504565507336 0.001\n",
      "0.7851133682158613 0.005\n",
      "0.82551303918729 0.001\n",
      "0.729119885861591 0.001\n",
      "0.9346977500677691 0.001\n",
      "0.9429203939640373 0.005\n",
      "0.9438059094605584 0.01\n",
      "0.8111919047725262 0.001\n",
      "0.8156008594859442 0.005\n",
      "0.775574437104908 0.001\n",
      "0.7863750976631864 0.005\n",
      "0.7868641114982579 0.001\n",
      "0.7760261898766054 0.001\n",
      "0.7972970704272644 0.005\n",
      "0.7259270409955341 0.001\n",
      "0.7352150132972052 0.005\n",
      "0.9520673635307783 0.001\n",
      "0.955267131242741 0.005\n",
      "0.8456407485112425 0.001\n",
      "0.8605601118952252 0.005\n",
      "0.8140973030748382 0.001\n",
      "0.8212388423389893 0.005\n",
      "0.8282496045382645 0.001\n",
      "0.8293459881088747 0.005\n",
      "0.569642533115587 0.001\n",
      "0.5105006344230483 0.001\n",
      "0.5315625466487535 0.005\n",
      "0.5329340200029855 0.01\n",
      "0.7021299445140505 0.001\n",
      "0.8798564868527529 0.001\n",
      "0.8811629244703566 0.005\n",
      "0.6962330249307932 0.001\n",
      "0.95986120504602 0.001\n",
      "0.8060341485815158 0.001\n",
      "0.8066513994000442 0.005\n",
      "0.7283547302460645 0.001\n",
      "0.7320228868904548 0.001\n",
      "0.624496407944781 0.001\n",
      "0.6292435554303422 0.005\n",
      "0.6607657511499628 0.001\n",
      "0.698376410629778 0.001\n",
      "0.6414832387026523 0.001\n",
      "0.6505405615617952 0.005\n",
      "0.7122650948716548 0.001\n",
      "0.7182987987168525 0.005\n",
      "0.848526428827109 0.001\n",
      "0.7371309192200558 0.001\n",
      "0.95625 0.001\n",
      "0.9594901591289783 0.005\n",
      "0.7699574207694857 0.001\n",
      "0.7769721577726217 0.005\n",
      "0.7771378853165396 0.01\n",
      "0.7818250025494967 0.001\n",
      "0.7894079340335951 0.005\n",
      "0.78963010445652 0.01\n",
      "0.8377271327379119 0.001\n",
      "0.8381429011395133 0.005\n",
      "0.6734584492665664 0.001\n",
      "0.6791414766412599 0.005\n",
      "0.6802725646138931 0.01\n",
      "0.7564993653560887 0.001\n",
      "0.7567784557507914 0.005\n",
      "0.7436345509126366 0.001\n",
      "0.601096789035078 0.001\n",
      "0.7362986330178759 0.001\n",
      "0.7565192496794833 0.001\n",
      "0.9340597072918015 0.001\n",
      "0.9360995984976039 0.005\n",
      "0.8507877107877108 0.001\n",
      "0.7228839718573588 0.001\n",
      "0.7280610684192474 0.005\n",
      "0.8921465872315387 0.001\n",
      "0.9000165489849956 0.005\n",
      "0.901744998528979 0.01\n",
      "0.9034642541924095 0.05\n",
      "0.7916494646739879 0.001\n",
      "0.801437398508243 0.005\n",
      "0.8131779637685149 0.001\n",
      "0.8212515830626066 0.005\n",
      "0.8212997632288971 0.01\n",
      "0.7163921635995333 0.001\n",
      "0.7782205460281316 0.001\n",
      "0.7799283664223535 0.005\n",
      "0.7017916015963908 0.001\n",
      "0.6616140855684582 0.001\n"
     ]
    }
   ],
   "source": [
    "cub_clfs = {}\n",
    "\n",
    "for at in imp_attr:\n",
    "    \n",
    "    if cub_attr['train'][:, at].mean()==0 or cub_attr['train'][:, at].mean()==1:\n",
    "        print(at)\n",
    "        continue\n",
    "    clf = hyperparam_search_l2(cub_features['train'], cub_attr['train'][:, at], \n",
    "                              cub_features['val'], cub_attr['val'][:, at])\n",
    "    cub_clfs[at] = clf"
   ]
  },
  {
   "cell_type": "code",
   "execution_count": 29,
   "id": "b42ece8c",
   "metadata": {},
   "outputs": [],
   "source": [
    "cub_NAPs = {}\n",
    "\n",
    "N = (1/200)*cub_features['test'].shape[0]\n",
    "\n",
    "for at in cub_clfs:\n",
    "    if cub_attr['test'][:, at].mean()==0:\n",
    "        continue\n",
    "    sc = cub_clfs[at].predict_proba(cub_features['test'])[:, 1]\n",
    "    cub_NAPs[at] = normalized_ap(cub_attr['test'][:,at], sc, N)"
   ]
  },
  {
   "cell_type": "code",
   "execution_count": 40,
   "id": "b5ec048d",
   "metadata": {},
   "outputs": [],
   "source": [
    "cub_class_scores = []\n",
    "\n",
    "N = (1/200)*cub_logits['test'].shape[0]\n",
    "\n",
    "for i in range(200):\n",
    "    sc = cub_logits['test'][:, i]\n",
    "    cub_class_scores.append(normalized_ap(np.where(np.array(cub_targets['test'])==i, 1, 0), sc, N))"
   ]
  },
  {
   "cell_type": "code",
   "execution_count": 41,
   "id": "efe7fcd4",
   "metadata": {},
   "outputs": [],
   "source": [
    "cub_NAPs_array = list(cub_NAPs.values())"
   ]
  },
  {
   "cell_type": "code",
   "execution_count": 46,
   "id": "5ebea644",
   "metadata": {},
   "outputs": [
    {
     "data": {
      "image/png": "[encoded data removed]",
      "text/plain": [
       "<Figure size 432x288 with 1 Axes>"
      ]
     },
     "metadata": {
      "needs_background": "light"
     },
     "output_type": "display_data"
    }
   ],
   "source": [
    "plt.hist(np.array(cub_NAPs_array)*100, bins=np.arange(21)*5)\n",
    "plt.xlabel('Normalized AP', size=14)\n",
    "plt.xlim([-1, 100])\n",
    "plt.ylabel('Number of concepts', size=14)\n",
    "plt.savefig('cub_attr_aps.eps')\n"
   ]
  },
  {
   "cell_type": "code",
   "execution_count": 47,
   "id": "71f3394d",
   "metadata": {},
   "outputs": [
    {
     "data": {
      "image/png": "[encoded data removed]",
      "text/plain": [
       "<Figure size 432x288 with 1 Axes>"
      ]
     },
     "metadata": {
      "needs_background": "light"
     },
     "output_type": "display_data"
    }
   ],
   "source": [
    "plt.hist(np.array(cub_class_scores)*100, bins=np.arange(21)*5)\n",
    "plt.xlabel('Normalized AP', size=14)\n",
    "plt.xlim([-1, 100])\n",
    "plt.ylabel('Number of bird classes', size=14)\n",
    "plt.savefig('cub_target_aps.eps')"
   ]
  },
  {
   "cell_type": "code",
   "execution_count": null,
   "id": "ed0989a4",
   "metadata": {},
   "outputs": [],
   "source": []
  }
 ],
 "metadata": {
  "kernelspec": {
   "display_name": "Python 3",
   "language": "python",
   "name": "python3"
  },
  "language_info": {
   "codemirror_mode": {
    "name": "ipython",
    "version": 3
   },
   "file_extension": ".py",
   "mimetype": "text/x-python",
   "name": "python",
   "nbconvert_exporter": "python",
   "pygments_lexer": "ipython3",
   "version": "3.8.5"
  }
 },
 "nbformat": 4,
 "nbformat_minor": 5
}
